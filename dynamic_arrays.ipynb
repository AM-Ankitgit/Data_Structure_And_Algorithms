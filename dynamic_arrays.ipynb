{
  "cells": [
    {
      "cell_type": "code",
      "execution_count": 1,
      "metadata": {
        "id": "QZ5u8mep3z4q"
      },
      "outputs": [],
      "source": [
        "import ctypes\n",
        "# to create C type ka array"
      ]
    },
    {
      "cell_type": "code",
      "execution_count": 52,
      "metadata": {
        "id": "FJ_5iTUh4Jcv"
      },
      "outputs": [],
      "source": [
        "class MeraList:\n",
        "    def __init__(self):\n",
        "        self.size=1\n",
        "        self.n= 0 \n",
        "\n",
        "        # create c type array \n",
        "        self.A = self.__make_array(self.size)\n",
        "\n",
        "    \n",
        "    def __len__(self):\n",
        "        return self.n\n",
        "    \n",
        "\n",
        "    def append(self,item):\n",
        "        # check the array vacant\n",
        "        if self.n == self.size:\n",
        "            # if not vacant then resize the arr\n",
        "            self.__resize(self.size*2)\n",
        "\n",
        "        # update the size of n after appending element\n",
        "        # self.A[self.n] = item\n",
        "       \n",
        "        self.A[self.n] = item\n",
        "        self.n = self.n+1\n",
        "\n",
        "\n",
        "    def __resize(self,new_capacity):\n",
        "        # Creat new array \n",
        "        B  = self.__make_array(new_capacity) # created new size\n",
        "        self.size = new_capacity\n",
        "        # copy the element of A in to B\n",
        "\n",
        "        for i in range(self.n):\n",
        "            B[i] = self.A[i]\n",
        "\n",
        "\n",
        "        # reassign B   to A because A is the main array\n",
        "\n",
        "        self.A = B\n",
        "\n",
        "    def __str__(self):\n",
        "        result = \"\"\n",
        "        for i in range(self.n):\n",
        "            result = result + str(self.A[i])  + \",\"\n",
        "        \n",
        "        return \"[\" +result [:-1]+ \"]\"\n",
        "    \n",
        "\n",
        "    def __getitem__(self,index):\n",
        "        if 0<=index<self.n:\n",
        "            return self.A[index]\n",
        "        else:\n",
        "            return \"IndexError - Index out of range\"\n",
        "        \n",
        "    def pop(self):\n",
        "        if self.n ==0:\n",
        "            return \"Empty List\"\n",
        "        print(self.A[self.n-1])\n",
        "        self.n=self.n-1\n",
        "\n",
        "    def clear(self):\n",
        "        self.size=1\n",
        "        self.n= 0 \n",
        "    \n",
        "    def index(self,item):\n",
        "        # print(self.n)\n",
        "        for i in range(self.n):\n",
        "            # print(i)\n",
        "            if item==self.A[i]:\n",
        "                # print(i)\n",
        "                return i\n",
        "        return \"Value Error\"\n",
        "    \n",
        "    def insert(self,index,item):\n",
        "        if self.n==self.size:\n",
        "            self.__resize(self.size*2) # update A\n",
        "\n",
        "        for i in range(self.n,index,-1):\n",
        "            self.A[i] = self.A[i-1]\n",
        "        self.A[index] = item\n",
        "        self.n = self.n+1\n",
        "\n",
        "    def __delitem__(self,pos):\n",
        "        # del item pos\n",
        "        if 0<= pos <self.n:\n",
        "            for i in range(pos,self.n-1):\n",
        "                self.A[i] = self.A[i+1]\n",
        "            self.n= self.n-1\n",
        "\n",
        "\n",
        "\n",
        "\n",
        "    def __make_array(self,capacity):\n",
        "        # referential array (c type) \n",
        "        return (capacity*ctypes.py_object)()\n",
        "    \n",
        "\n",
        "\n"
      ]
    },
    {
      "cell_type": "code",
      "execution_count": 53,
      "metadata": {},
      "outputs": [
        {
          "data": {
            "text/plain": [
              "[1, 24, 54]"
            ]
          },
          "execution_count": 53,
          "metadata": {},
          "output_type": "execute_result"
        }
      ],
      "source": [
        "L = [1,24,54]\n",
        "\n",
        "L.index(1)\n",
        "\n",
        "# L.insert(1,12,1,23)\n",
        "\n",
        "L\n",
        "\n",
        "# write function for addition of two number\n"
      ]
    },
    {
      "cell_type": "code",
      "execution_count": 54,
      "metadata": {
        "id": "0dr0QIug5WXt"
      },
      "outputs": [
        {
          "name": "stdout",
          "output_type": "stream",
          "text": [
            "<class '__main__.MeraList'>\n"
          ]
        }
      ],
      "source": [
        "L = MeraList()\n",
        "\n",
        "print(type(L))"
      ]
    },
    {
      "cell_type": "code",
      "execution_count": 55,
      "metadata": {
        "id": "kRiwtEgJ5Y5l"
      },
      "outputs": [],
      "source": [
        "L.append(1)\n",
        "L.append('hello')\n",
        "L.append(False)\n",
        "L.append(4.5)"
      ]
    },
    {
      "cell_type": "code",
      "execution_count": 56,
      "metadata": {
        "colab": {
          "base_uri": "https://localhost:8080/"
        },
        "id": "JrdjNFWC8Wbn",
        "outputId": "170821bd-8d0f-4016-aa9d-f064cb270e64"
      },
      "outputs": [
        {
          "name": "stdout",
          "output_type": "stream",
          "text": [
            "4\n"
          ]
        }
      ],
      "source": [
        "print(len(L))"
      ]
    },
    {
      "cell_type": "code",
      "execution_count": 57,
      "metadata": {
        "colab": {
          "base_uri": "https://localhost:8080/",
          "height": 35
        },
        "id": "WbFSLfpy8tK-",
        "outputId": "75daf089-3d0c-4d19-8f49-7930d70e06af"
      },
      "outputs": [
        {
          "name": "stdout",
          "output_type": "stream",
          "text": [
            "[1,hello,False,4.5]\n"
          ]
        }
      ],
      "source": [
        "print(L)"
      ]
    },
    {
      "cell_type": "code",
      "execution_count": 58,
      "metadata": {},
      "outputs": [
        {
          "data": {
            "text/plain": [
              "'IndexError - Index out of range'"
            ]
          },
          "execution_count": 58,
          "metadata": {},
          "output_type": "execute_result"
        }
      ],
      "source": [
        "L[10]"
      ]
    },
    {
      "cell_type": "code",
      "execution_count": 59,
      "metadata": {},
      "outputs": [
        {
          "name": "stdout",
          "output_type": "stream",
          "text": [
            "4.5\n"
          ]
        }
      ],
      "source": [
        "L.pop()"
      ]
    },
    {
      "cell_type": "code",
      "execution_count": 60,
      "metadata": {},
      "outputs": [
        {
          "name": "stdout",
          "output_type": "stream",
          "text": [
            "[1,hello,False]\n"
          ]
        }
      ],
      "source": [
        "print(L)"
      ]
    },
    {
      "cell_type": "code",
      "execution_count": 61,
      "metadata": {},
      "outputs": [],
      "source": [
        "# L.clear()  "
      ]
    },
    {
      "cell_type": "code",
      "execution_count": 62,
      "metadata": {},
      "outputs": [
        {
          "data": {
            "text/plain": [
              "1"
            ]
          },
          "execution_count": 62,
          "metadata": {},
          "output_type": "execute_result"
        }
      ],
      "source": [
        "L.index(1)\n",
        "L.index(\"hello\")"
      ]
    },
    {
      "cell_type": "code",
      "execution_count": 63,
      "metadata": {},
      "outputs": [
        {
          "name": "stdout",
          "output_type": "stream",
          "text": [
            "[1,hello,False]\n"
          ]
        }
      ],
      "source": [
        "print(L)"
      ]
    },
    {
      "cell_type": "code",
      "execution_count": 64,
      "metadata": {},
      "outputs": [],
      "source": [
        "L.insert(1,23)"
      ]
    },
    {
      "cell_type": "code",
      "execution_count": 65,
      "metadata": {
        "colab": {
          "base_uri": "https://localhost:8080/",
          "height": 168
        },
        "id": "PdLotNNm5vo7",
        "outputId": "51db0c71-0370-4d25-cdac-955b50c6ff0f"
      },
      "outputs": [
        {
          "name": "stdout",
          "output_type": "stream",
          "text": [
            "[1,23,hello,False]\n"
          ]
        }
      ],
      "source": [
        "print(L)"
      ]
    },
    {
      "cell_type": "code",
      "execution_count": 66,
      "metadata": {},
      "outputs": [],
      "source": [
        "del L[1]"
      ]
    },
    {
      "cell_type": "code",
      "execution_count": 67,
      "metadata": {},
      "outputs": [
        {
          "name": "stdout",
          "output_type": "stream",
          "text": [
            "[1,hello,False]\n"
          ]
        }
      ],
      "source": [
        "print(L)"
      ]
    },
    {
      "cell_type": "code",
      "execution_count": 71,
      "metadata": {},
      "outputs": [
        {
          "data": {
            "text/plain": [
              "0"
            ]
          },
          "execution_count": 71,
          "metadata": {},
          "output_type": "execute_result"
        }
      ],
      "source": [
        "l = [1,23,'hello',False]\n",
        "\n",
        "l.index(1)"
      ]
    },
    {
      "cell_type": "code",
      "execution_count": null,
      "metadata": {},
      "outputs": [],
      "source": []
    },
    {
      "cell_type": "code",
      "execution_count": null,
      "metadata": {},
      "outputs": [],
      "source": []
    },
    {
      "cell_type": "code",
      "execution_count": null,
      "metadata": {},
      "outputs": [],
      "source": []
    }
  ],
  "metadata": {
    "colab": {
      "provenance": []
    },
    "kernelspec": {
      "display_name": "venv",
      "language": "python",
      "name": "python3"
    },
    "language_info": {
      "codemirror_mode": {
        "name": "ipython",
        "version": 3
      },
      "file_extension": ".py",
      "mimetype": "text/x-python",
      "name": "python",
      "nbconvert_exporter": "python",
      "pygments_lexer": "ipython3",
      "version": "3.12.3"
    }
  },
  "nbformat": 4,
  "nbformat_minor": 0
}
